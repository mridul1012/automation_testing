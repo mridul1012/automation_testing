{
 "cells": [
  {
   "cell_type": "markdown",
   "metadata": {},
   "source": [
    "### importing libraries"
   ]
  },
  {
   "cell_type": "code",
   "execution_count": 1,
   "metadata": {},
   "outputs": [],
   "source": [
    "from selenium import webdriver\n",
    "import time\n",
    "from selenium.webdriver.chrome.options import Options\n",
    "from selenium.webdriver.common.action_chains import ActionChains\n",
    "from selenium.webdriver.support.select import Select\n",
    "import warnings\n",
    "warnings.filterwarnings(\"ignore\")\n",
    "import os"
   ]
  },
  {
   "cell_type": "markdown",
   "metadata": {},
   "source": [
    "## task 4"
   ]
  },
  {
   "cell_type": "markdown",
   "metadata": {},
   "source": [
    "#### interchange A and B"
   ]
  },
  {
   "cell_type": "code",
   "execution_count": 2,
   "metadata": {},
   "outputs": [],
   "source": [
    "path = \"C:\\Program Files (x86)\\chromedriver.exe\"\n",
    "\n",
    "chrome_options = Options()\n",
    "\n",
    "prefs = {r\"download.default_directory\" : r\"C:\\Users\\mridul\\Documents\"}\n",
    "chrome_options.add_experimental_option('prefs', prefs)\n",
    "\n",
    "driver = webdriver.Chrome(executable_path=path,chrome_options=chrome_options)\n",
    "driver.get('http://the-internet.herokuapp.com/')\n",
    "\n",
    "drag_and_drop = driver.find_element_by_xpath(\"//a[@href='/drag_and_drop']\")\n",
    "drag_and_drop.click()\n",
    "\n",
    "source = driver.find_element_by_xpath(\"//div[@id='column-a']\")\n",
    "\n",
    "target = driver.find_element_by_xpath(\"//div[@id='column-b']\")\n",
    "\n",
    "#actions = ActionChains(driver)\n",
    "\n",
    "time.sleep(5)\n",
    "\n",
    "#actions.drag_and_drop(source,target).perform()\n",
    "\n",
    "ActionChains(driver).click_and_hold(source).move_to_element(target).release(target).click(target).perform()"
   ]
  },
  {
   "cell_type": "markdown",
   "metadata": {},
   "source": [
    "#### select option 2"
   ]
  },
  {
   "cell_type": "code",
   "execution_count": 10,
   "metadata": {},
   "outputs": [],
   "source": [
    "path = \"C:\\Program Files (x86)\\chromedriver.exe\"\n",
    "\n",
    "chrome_options = Options()\n",
    "\n",
    "prefs = {r\"download.default_directory\" : r\"C:\\Users\\mridul\\Documents\"}\n",
    "chrome_options.add_experimental_option('prefs', prefs)\n",
    "\n",
    "driver = webdriver.Chrome(executable_path=path,chrome_options=chrome_options)\n",
    "driver.get('http://the-internet.herokuapp.com/')\n",
    "\n",
    "dropdown = driver.find_element_by_xpath(\"//a[@href='/dropdown']\")\n",
    "dropdown.click()\n",
    "\n",
    "dropdown_list = Select(driver.find_element_by_xpath(\"//select[@id='dropdown']\"))\n",
    "\n",
    "dropdown_list.select_by_visible_text('Option 2')"
   ]
  },
  {
   "cell_type": "markdown",
   "metadata": {},
   "source": [
    "## task 3"
   ]
  },
  {
   "cell_type": "markdown",
   "metadata": {},
   "source": [
    "#### upload file"
   ]
  },
  {
   "cell_type": "code",
   "execution_count": 2,
   "metadata": {},
   "outputs": [
    {
     "name": "stdout",
     "output_type": "stream",
     "text": [
      "sql.txt\n"
     ]
    }
   ],
   "source": [
    "path = \"C:\\Program Files (x86)\\chromedriver.exe\"\n",
    "\n",
    "chrome_options = Options()\n",
    "\n",
    "prefs = {r\"download.default_directory\" : r\"C:\\Users\\mridul\\Documents\"}\n",
    "chrome_options.add_experimental_option('prefs', prefs)\n",
    "\n",
    "driver = webdriver.Chrome(executable_path=path,chrome_options=chrome_options)\n",
    "driver.get('http://the-internet.herokuapp.com/')\n",
    "\n",
    "## upload file\n",
    "\n",
    "upload = driver.find_element_by_xpath(\"//a[@href='/upload']\")\n",
    "upload.click()\n",
    "\n",
    "time.sleep(5)\n",
    "\n",
    "choose_file = driver.find_element_by_xpath(\"//input[@id='file-upload']\").send_keys(r\"C:\\Users\\mridul\\Documents\\sql.txt\")\n",
    "\n",
    "upload_file = driver.find_element_by_xpath(\"//input[@id='file-submit']\")\n",
    "upload_file.click()\n",
    "\n",
    "validate = driver.find_element_by_xpath(\"//div[@id='uploaded-files']\")\n",
    "print(validate.text)"
   ]
  },
  {
   "cell_type": "markdown",
   "metadata": {},
   "source": [
    "#### download file"
   ]
  },
  {
   "cell_type": "code",
   "execution_count": 3,
   "metadata": {},
   "outputs": [
    {
     "name": "stdout",
     "output_type": "stream",
     "text": [
      "False\n",
      "True\n"
     ]
    }
   ],
   "source": [
    "path = \"C:\\Program Files (x86)\\chromedriver.exe\"\n",
    "\n",
    "chrome_options = Options()\n",
    "\n",
    "prefs = {r\"download.default_directory\" : r\"C:\\Users\\mridul\\Documents\"}\n",
    "chrome_options.add_experimental_option('prefs', prefs)\n",
    "\n",
    "driver = webdriver.Chrome(executable_path=path,chrome_options=chrome_options)\n",
    "driver.get('http://the-internet.herokuapp.com/')\n",
    "\n",
    "### download file\n",
    "\n",
    "download = driver.find_element_by_xpath(\"//a[@href='/download']\")\n",
    "download.click()\n",
    "\n",
    "#time.sleep(5)\n",
    "\n",
    "files_before = os.listdir(r\"C:\\Users\\mridul\\Documents\")\n",
    "print(\"dummy.pdf\" in files_before)\n",
    "\n",
    "down_file = driver.find_element_by_xpath(\"//a[@href='download/dummy.pdf']\")\n",
    "down_file.click()\n",
    "\n",
    "time.sleep(5)\n",
    "\n",
    "files_after = os.listdir(r\"C:\\Users\\mridul\\Documents\")\n",
    "print(\"dummy.pdf\" in files_after)\n",
    "\n",
    "os.remove(\"dummy.pdf\")"
   ]
  },
  {
   "cell_type": "markdown",
   "metadata": {},
   "source": [
    "#### new window"
   ]
  },
  {
   "cell_type": "code",
   "execution_count": 4,
   "metadata": {},
   "outputs": [
    {
     "name": "stdout",
     "output_type": "stream",
     "text": [
      "New Window\n",
      "True\n"
     ]
    }
   ],
   "source": [
    "path = \"C:\\Program Files (x86)\\chromedriver.exe\"\n",
    "\n",
    "chrome_options = Options()\n",
    "\n",
    "prefs = {r\"download.default_directory\" : r\"C:\\Users\\mridul\\Documents\"}\n",
    "chrome_options.add_experimental_option('prefs', prefs)\n",
    "\n",
    "driver = webdriver.Chrome(executable_path=path,chrome_options=chrome_options)\n",
    "driver.get('http://the-internet.herokuapp.com/')\n",
    "\n",
    "windows = driver.find_element_by_xpath(\"//a[@href='/windows']\")\n",
    "windows.click()\n",
    "\n",
    "window_before = driver.window_handles[0]\n",
    "\n",
    "new_windows = driver.find_element_by_xpath(\"//a[@href='/windows/new']\")\n",
    "new_windows.click()\n",
    "\n",
    "window_after = driver.window_handles[1]\n",
    "\n",
    "driver.switch_to_window(window_after)\n",
    "\n",
    "text = driver.find_element_by_xpath(\"//h3\")\n",
    "print(text.text)\n",
    "print(text.text == \"New Window\")"
   ]
  },
  {
   "cell_type": "markdown",
   "metadata": {},
   "source": [
    "## Task 2"
   ]
  },
  {
   "cell_type": "code",
   "execution_count": 2,
   "metadata": {},
   "outputs": [
    {
     "name": "stdout",
     "output_type": "stream",
     "text": [
      "mridul\n",
      "agrawal\n",
      "110016\n"
     ]
    }
   ],
   "source": [
    "from selenium import webdriver\n",
    "from selenium.webdriver.common.by import By\n",
    "import getpass\n",
    "import time\n",
    "from selenium.webdriver.chrome.options import Options\n",
    "import warnings\n",
    "warnings.filterwarnings(\"ignore\")\n",
    "\n",
    "path = \"C:\\Program Files (x86)\\chromedriver.exe\"\n",
    "\n",
    "chrome_options = Options()\n",
    "chrome_options.add_argument(\"--disable-notifications\")\n",
    "\n",
    "driver = webdriver.Chrome(executable_path=path,chrome_options=chrome_options)\n",
    "driver.get('https://www.saucedemo.com/')\n",
    "\n",
    "Username = driver.find_element_by_xpath(\"//input[@id='user-name']\")\n",
    "Username.send_keys(\"standard_user\")\n",
    "\n",
    "Password = driver.find_element_by_xpath(\"//input[@id='password']\")\n",
    "Password.send_keys(\"secret_sauce\")\n",
    "\n",
    "Login = driver.find_element_by_xpath(\"//input[@id='login-button']\")\n",
    "Login.click()\n",
    "\n",
    "#time.sleep(5)\n",
    "\n",
    "add_cart = driver.find_element_by_xpath(\"//button[@id='add-to-cart-sauce-labs-backpack']\")\n",
    "add_cart.click()\n",
    "\n",
    "#time.sleep(5)\n",
    "\n",
    "click_cart = driver.find_element_by_xpath(\"//a[@class='shopping_cart_link']\")\n",
    "click_cart.click()\n",
    "\n",
    "#time.sleep(5)\n",
    "\n",
    "checkout = driver.find_element_by_xpath(\"//button[@id='checkout']\")\n",
    "checkout.click()\n",
    "\n",
    "#time.sleep(5)\n",
    "\n",
    "fn = driver.find_element_by_xpath(\"//input[@id='first-name']\")\n",
    "fn.send_keys(\"mridul\")\n",
    "print(fn.get_attribute(\"value\"))\n",
    "\n",
    "ln = driver.find_element_by_xpath(\"//input[@id='last-name']\")\n",
    "ln.send_keys(\"agrawal\")\n",
    "print(ln.get_attribute(\"value\"))\n",
    "\n",
    "pin = driver.find_element_by_xpath(\"//input[@id='postal-code']\")\n",
    "pin.send_keys(\"110016\")\n",
    "print(pin.get_attribute(\"value\"))\n",
    "\n",
    "continue1 = driver.find_element_by_xpath(\"//input[@id='continue']\")\n",
    "continue1.click()\n",
    "\n",
    "#time.sleep(4)\n",
    "\n",
    "finish = driver.find_element_by_xpath(\"//button[@id='finish']\")\n",
    "finish.click()\n",
    "\n",
    "time.sleep(4)\n",
    "\n",
    "menu = driver.find_element_by_xpath(\"//button[@id='react-burger-menu-btn']\")\n",
    "menu.click()\n",
    "\n",
    "time.sleep(4)\n",
    "\n",
    "logout = driver.find_element_by_xpath(\"//a[@id='logout_sidebar_link']\")\n",
    "logout.click()"
   ]
  },
  {
   "cell_type": "markdown",
   "metadata": {},
   "source": [
    "## Task 1"
   ]
  },
  {
   "cell_type": "code",
   "execution_count": 3,
   "metadata": {},
   "outputs": [
    {
     "name": "stdout",
     "output_type": "stream",
     "text": [
      "Enter username: 7071429262\n",
      "Enter password: ········\n",
      "True\n"
     ]
    }
   ],
   "source": [
    "from selenium import webdriver\n",
    "from selenium.webdriver.common.by import By\n",
    "import getpass\n",
    "import time \n",
    "from selenium.webdriver.common.alert import Alert\n",
    "from selenium.webdriver.chrome.options import Options\n",
    "\n",
    "username = input('Enter username: ')\n",
    "password = getpass.getpass('Enter password: ')\n",
    "\n",
    "path = \"C:\\Program Files (x86)\\chromedriver.exe\"\n",
    "\n",
    "chrome_options = Options()\n",
    "chrome_options.add_argument(\"--disable-notifications\")\n",
    "\n",
    "driver = webdriver.Chrome(executable_path=path,chrome_options=chrome_options)\n",
    "driver.get('https://www.facebook.com')\n",
    "\n",
    "Username = driver.find_element_by_xpath(\"//input[@id='email']\")\n",
    "Username.send_keys(username)\n",
    "\n",
    "Password = driver.find_element_by_xpath(\"//input[@id='pass']\")\n",
    "Password.send_keys(password)\n",
    "\n",
    "Login = driver.find_element_by_xpath(\"//button[@name='login']\")\n",
    "Login.click()\n",
    "\n",
    "time.sleep(10)\n",
    "\n",
    "dropdown = driver.find_element_by_xpath(\"//div[@aria-label='Account']\")\n",
    "print(str(dropdown.is_displayed()))\n",
    "dropdown.click()\n",
    "\n",
    "logout = driver.find_element_by_xpath(\"//span[contains(text(),'Log Out')]\")\n",
    "logout.click()"
   ]
  }
 ],
 "metadata": {
  "kernelspec": {
   "display_name": "Python 3",
   "language": "python",
   "name": "python3"
  },
  "language_info": {
   "codemirror_mode": {
    "name": "ipython",
    "version": 3
   },
   "file_extension": ".py",
   "mimetype": "text/x-python",
   "name": "python",
   "nbconvert_exporter": "python",
   "pygments_lexer": "ipython3",
   "version": "3.7.6"
  }
 },
 "nbformat": 4,
 "nbformat_minor": 4
}
